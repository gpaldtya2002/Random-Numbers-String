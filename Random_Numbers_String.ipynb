{
  "nbformat": 4,
  "nbformat_minor": 0,
  "metadata": {
    "colab": {
      "provenance": [],
      "authorship_tag": "ABX9TyNM74sfapvsbib2MEIvqEW0",
      "include_colab_link": true
    },
    "kernelspec": {
      "name": "python3",
      "display_name": "Python 3"
    },
    "language_info": {
      "name": "python"
    }
  },
  "cells": [
    {
      "cell_type": "markdown",
      "metadata": {
        "id": "view-in-github",
        "colab_type": "text"
      },
      "source": [
        "<a href=\"https://colab.research.google.com/github/gpaldtya2002/Random-Numbers-String/blob/main/Random_Numbers_String.ipynb\" target=\"_parent\"><img src=\"https://colab.research.google.com/assets/colab-badge.svg\" alt=\"Open In Colab\"/></a>"
      ]
    },
    {
      "cell_type": "markdown",
      "metadata": {
        "id": "MpgFLAABG0Nn"
      },
      "source": [
        "---\n",
        "# **Random Numbers/String- IMPORTANT**\n",
        "**Learning:** Generate Random Numbers/String\n",
        "\n",
        "---\n",
        "### **1. Generate random number between 0 and 1**"
      ]
    },
    {
      "cell_type": "code",
      "metadata": {
        "colab": {
          "base_uri": "https://localhost:8080/"
        },
        "id": "B2jZpOnRG0Nn",
        "outputId": "17f7beed-a872-4eb1-ef98-00e43235b5a6"
      },
      "source": [
        "import random as r\n",
        "print (r.random())\n",
        "print (r.random())\n",
        "print (round(r.random(),4))"
      ],
      "execution_count": 1,
      "outputs": [
        {
          "output_type": "stream",
          "name": "stdout",
          "text": [
            "0.36970284976273415\n",
            "0.9739509370040587\n",
            "0.6839\n"
          ]
        }
      ]
    },
    {
      "cell_type": "markdown",
      "metadata": {
        "id": "wBI9otLPG0Nn"
      },
      "source": [
        "---\n",
        "### **2. Generate random integer number**\n",
        "---"
      ]
    },
    {
      "cell_type": "code",
      "metadata": {
        "colab": {
          "base_uri": "https://localhost:8080/"
        },
        "id": "72NOmyH-G0No",
        "outputId": "28b1fa15-1aac-42f7-940d-1fb4a4435b54"
      },
      "source": [
        "import random as r\n",
        "print (r.randint(1, 100))\n",
        "print (r.randint(1, 100))\n",
        "print (r.randint(-10, 10))\n",
        "print (r.randint(-10, 10))"
      ],
      "execution_count": 2,
      "outputs": [
        {
          "output_type": "stream",
          "name": "stdout",
          "text": [
            "20\n",
            "100\n",
            "-1\n",
            "-10\n"
          ]
        }
      ]
    },
    {
      "cell_type": "markdown",
      "metadata": {
        "id": "gFTecYJvG0No"
      },
      "source": [
        "---\n",
        "### **3. Generate random real number**\n",
        "---"
      ]
    },
    {
      "cell_type": "code",
      "metadata": {
        "colab": {
          "base_uri": "https://localhost:8080/"
        },
        "id": "vs3jmtqtG0No",
        "outputId": "cfba401b-0776-4855-840d-bd6d9b59bc43"
      },
      "source": [
        "import random as r\n",
        "print (r.uniform(1, 100))\n",
        "print (r.uniform(1, 100))\n",
        "print (r.uniform (-10, 10))\n",
        "print (r.uniform (-10, 10))\n",
        "print (round(r.uniform (-10, 10),2))"
      ],
      "execution_count": 3,
      "outputs": [
        {
          "output_type": "stream",
          "name": "stdout",
          "text": [
            "58.81825674628455\n",
            "47.18060291282402\n",
            "7.023044289227826\n",
            "-4.741684377788678\n",
            "0.15\n"
          ]
        }
      ]
    },
    {
      "cell_type": "markdown",
      "metadata": {
        "id": "DJ_9Kt4XG0Np"
      },
      "source": [
        "---\n",
        "### **4. Select sample from a list of elements**\n",
        "---"
      ]
    },
    {
      "cell_type": "code",
      "metadata": {
        "colab": {
          "base_uri": "https://localhost:8080/"
        },
        "id": "ZVDp33YQG0Np",
        "outputId": "2647650a-d8cc-43f6-f6c3-33fb28bff5f2"
      },
      "source": [
        "import random as r\n",
        "\n",
        "A=[1, 2, 3, 4, 5, 6, 7, 8, 9, 10]\n",
        "\n",
        "print (r.sample(A, 4))\n",
        "print (r.sample(A, 2))\n",
        "print (r.sample(range(0,100), 2))\n",
        "print (r.sample(range(-100,100), 5))"
      ],
      "execution_count": 4,
      "outputs": [
        {
          "output_type": "stream",
          "name": "stdout",
          "text": [
            "[1, 3, 2, 8]\n",
            "[1, 6]\n",
            "[57, 98]\n",
            "[-4, 12, -9, -51, 19]\n"
          ]
        }
      ]
    },
    {
      "cell_type": "markdown",
      "metadata": {
        "id": "cgEXGBtsG0Np"
      },
      "source": [
        "---\n",
        "### **5. Generate random string**\n",
        "---"
      ]
    },
    {
      "cell_type": "code",
      "metadata": {
        "colab": {
          "base_uri": "https://localhost:8080/"
        },
        "id": "T-FHSfgfG0Nq",
        "outputId": "a5b7458c-fac2-4df8-b88a-6d8a6020bb49"
      },
      "source": [
        "import string as s\n",
        "import random as r\n",
        "print (\"String        --> \",s.ascii_letters)\n",
        "\n",
        "passwd=r.sample(s.ascii_letters, 6)\n",
        "print (\"Selected Char --> \",passwd)\n",
        "\n",
        "passwd1=\"\".join(passwd)\n",
        "print (\"passwd1       --> \",passwd1)\n",
        "\n",
        "passwd2=\"+\".join(passwd)\n",
        "print (\"passwd2       --> \",passwd2)\n",
        "\n",
        "passwd3=\"*\".join(passwd)\n",
        "print (\"passwd3       --> \",passwd3)\n"
      ],
      "execution_count": 5,
      "outputs": [
        {
          "output_type": "stream",
          "name": "stdout",
          "text": [
            "String        -->  abcdefghijklmnopqrstuvwxyzABCDEFGHIJKLMNOPQRSTUVWXYZ\n",
            "Selected Char -->  ['r', 'Y', 'S', 'l', 'C', 'I']\n",
            "passwd1       -->  rYSlCI\n",
            "passwd2       -->  r+Y+S+l+C+I\n",
            "passwd3       -->  r*Y*S*l*C*I\n"
          ]
        }
      ]
    },
    {
      "cell_type": "markdown",
      "metadata": {
        "id": "9NFexXG1G0Nq"
      },
      "source": [
        "---\n",
        "### **6. Generate random digits**\n",
        "---"
      ]
    },
    {
      "cell_type": "code",
      "metadata": {
        "colab": {
          "base_uri": "https://localhost:8080/"
        },
        "id": "mH0sHuuHG0Nq",
        "outputId": "5e9677b6-0561-4e21-e064-d97cc25bb4d5"
      },
      "source": [
        "import string as s\n",
        "import random as r\n",
        "print (\"Digits --> \",s.digits)\n",
        "\n",
        "otp=r.sample(s.digits, 5)\n",
        "print (\"Selected num1 --> \",otp)\n",
        "otp=\"\".join(otp)\n",
        "print (\"otp1          --> \",otp)\n",
        "\n",
        "otp=r.sample(s.digits, 5)\n",
        "print (\"Selected num2 --> \",otp)\n",
        "otp=\"\".join(otp)\n",
        "print (\"otp2          --> \",otp)\n",
        "\n",
        "otp=r.sample(s.digits, 5)\n",
        "print (\"Selected num2 --> \",otp)\n",
        "otp=\"\".join(otp)\n",
        "print (\"otp3          --> \",otp)"
      ],
      "execution_count": 6,
      "outputs": [
        {
          "output_type": "stream",
          "name": "stdout",
          "text": [
            "Digits -->  0123456789\n",
            "Selected num1 -->  ['5', '3', '9', '6', '1']\n",
            "otp1          -->  53961\n",
            "Selected num2 -->  ['3', '2', '4', '8', '0']\n",
            "otp2          -->  32480\n",
            "Selected num2 -->  ['6', '9', '5', '1', '3']\n",
            "otp3          -->  69513\n"
          ]
        }
      ]
    },
    {
      "cell_type": "markdown",
      "metadata": {
        "id": "1bcIKPDpG0Nr"
      },
      "source": [
        "---\n",
        "### **7. Generate random string + digits**\n",
        "---"
      ]
    },
    {
      "cell_type": "code",
      "metadata": {
        "colab": {
          "base_uri": "https://localhost:8080/"
        },
        "id": "BG-ACfp0G0Nr",
        "outputId": "1583b4c0-6ac1-4180-f10b-a26c2f961d8b"
      },
      "source": [
        "import string as s\n",
        "import random as r\n",
        "print (\"String + Digits --> \",s.ascii_letters + s.digits)\n",
        "\n",
        "mixPasswd=r.sample(s.ascii_letters + s.digits, 5)\n",
        "print (\"\\nSelected Str1 --> \",mixPasswd)\n",
        "mixPasswd=\"\".join(mixPasswd)\n",
        "print (\"mixPasswd1    --> \",mixPasswd)\n",
        "\n",
        "mixPasswd=r.sample(s.ascii_letters + s.digits, 6)\n",
        "print (\"\\nSelected Str2 --> \",mixPasswd)\n",
        "mixPasswd=\"\".join(mixPasswd)\n",
        "print (\"mixPasswd2    --> \",mixPasswd)\n",
        "\n",
        "splChar=\"#@!~%^&*()_+=-[]{}|\"\n",
        "mixPasswd=r.sample(splChar + s.ascii_letters + s.digits, 8)\n",
        "print (\"\\nSelected Str3 --> \",mixPasswd)\n",
        "mixPasswd=\"\".join(mixPasswd)\n",
        "print (\"mixPasswd3    --> \",mixPasswd)"
      ],
      "execution_count": 7,
      "outputs": [
        {
          "output_type": "stream",
          "name": "stdout",
          "text": [
            "String + Digits -->  abcdefghijklmnopqrstuvwxyzABCDEFGHIJKLMNOPQRSTUVWXYZ0123456789\n",
            "\n",
            "Selected Str1 -->  ['m', 'c', 'C', 'd', 'M']\n",
            "mixPasswd1    -->  mcCdM\n",
            "\n",
            "Selected Str2 -->  ['y', '9', 'C', '1', 'N', 'a']\n",
            "mixPasswd2    -->  y9C1Na\n",
            "\n",
            "Selected Str3 -->  ['B', 'P', 'q', '~', '1', 'K', 'N', '#']\n",
            "mixPasswd3    -->  BPq~1KN#\n"
          ]
        }
      ]
    }
  ]
}